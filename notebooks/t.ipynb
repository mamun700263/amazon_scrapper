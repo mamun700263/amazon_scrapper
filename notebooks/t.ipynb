{
 "cells": [
  {
   "cell_type": "code",
   "execution_count": 4,
   "id": "c8446511",
   "metadata": {},
   "outputs": [],
   "source": [
    "from utils.common import *\n",
    "from utils.amazon import *\n",
    "from utils.selenium_utils import *"
   ]
  },
  {
   "cell_type": "code",
   "execution_count": 5,
   "id": "d870c2af",
   "metadata": {},
   "outputs": [],
   "source": [
    "config = ScraperConfig()\n",
    "amazon = AmazonScraper(config)\n",
    "driver = amazon.driver"
   ]
  },
  {
   "cell_type": "code",
   "execution_count": 6,
   "id": "336a4c39",
   "metadata": {},
   "outputs": [],
   "source": [
    "results = amazon.scrape_all_pages(\"keyboard \", max_pages=5)"
   ]
  },
  {
   "cell_type": "code",
   "execution_count": 7,
   "id": "f3bbfd5f",
   "metadata": {},
   "outputs": [],
   "source": [
    "save_as(items=results, file_name=\"keyboard.json\")\n",
    "amazon.quit()"
   ]
  },
  {
   "cell_type": "code",
   "execution_count": null,
   "id": "c7339d5b",
   "metadata": {},
   "outputs": [],
   "source": []
  }
 ],
 "metadata": {
  "kernelspec": {
   "display_name": ".venv",
   "language": "python",
   "name": "python3"
  },
  "language_info": {
   "codemirror_mode": {
    "name": "ipython",
    "version": 3
   },
   "file_extension": ".py",
   "mimetype": "text/x-python",
   "name": "python",
   "nbconvert_exporter": "python",
   "pygments_lexer": "ipython3",
   "version": "3.12.7"
  }
 },
 "nbformat": 4,
 "nbformat_minor": 5
}
